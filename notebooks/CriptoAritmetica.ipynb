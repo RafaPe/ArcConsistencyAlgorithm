{
 "cells": [
  {
   "cell_type": "markdown",
   "id": "eb51d83b-26b4-4ab5-bfec-cdca1082d3e0",
   "metadata": {},
   "source": [
    "# Criptoaritmética"
   ]
  },
  {
   "cell_type": "markdown",
   "id": "1ae4c36c-2e16-4790-83a6-fe92c0419cf7",
   "metadata": {},
   "source": [
    "Se propone la suma de la imagen siguiente:"
   ]
  },
  {
   "cell_type": "markdown",
   "id": "61543427-a780-4262-a942-eae0f0b66f6b",
   "metadata": {},
   "source": [
    "![Imagen1.png](data:image/png;base64,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)"
   ]
  },
  {
   "cell_type": "markdown",
   "id": "71a5d9d8-4496-4906-bcf8-bf03d0c00667",
   "metadata": {},
   "source": [
    "Cada letra representa un dígito del sistema de numeración decimal.\n",
    "\n",
    "Encuentra los valores, tales que:\n",
    "\n",
    "- Una letra y un dígito estén asociados de manera biunívoca.\n",
    "- Los \"números\" *TWO* y *FOUR* no tengan ceros a la izquierda.\n",
    "- El sistema sea consistente al realizar la operación suma."
   ]
  },
  {
   "cell_type": "markdown",
   "id": "a38face2-ba08-4d62-8f8b-245555241da3",
   "metadata": {},
   "source": [
    "Para este problema tenemos a las variables *T*, *W*, *O*, *F*, *U* y *R*, las cuales son planteadas por el propio problema y cuyo dominio son los dígitos del 0 al 9, exceptuando el 0 para las variables *T* y *F*. Esta restricción se agrega debido a que se busca que los números representados en el problema no tengan ceros a la izquierda.\n",
    "\n",
    "Además se consideran las variables *X*, *Y* y *Z*, las cuales servirán como variables auxiliares para la representación del acarreo. Esto surge como una alternativa para representar el funcionamiento algorítmico de la suma.\n",
    "\n",
    "Esto lo podemos ver de mejor manera en la siguiente imagen:"
   ]
  },
  {
   "cell_type": "markdown",
   "id": "8b586d59-670b-494b-af6d-5258574e7e5c",
   "metadata": {},
   "source": [
    "![Imagen2.png](data:image/png;base64,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)"
   ]
  },
  {
   "cell_type": "markdown",
   "id": "aee9ffa6-2398-4b0e-bb35-28cff49966b9",
   "metadata": {},
   "source": [
    "Con esto en mente podemos empezar a definir las variables para el algoritmo"
   ]
  },
  {
   "cell_type": "markdown",
   "id": "ec4d8840-215b-44d2-bf74-be0805b3ecc6",
   "metadata": {
    "tags": []
   },
   "source": [
    "## Definición de variables"
   ]
  },
  {
   "cell_type": "markdown",
   "id": "7d2a6ea4-b3dc-4d73-88fc-f3ec4f549d38",
   "metadata": {},
   "source": [
    "Importamos las librerias necesarias"
   ]
  },
  {
   "cell_type": "code",
   "execution_count": 206,
   "id": "c2c0ea1d-53d7-42fd-ad3e-0bb0cbed2526",
   "metadata": {},
   "outputs": [],
   "source": [
    "from itertools import product\n",
    "from collections import deque"
   ]
  },
  {
   "cell_type": "markdown",
   "id": "7fd55e2b-2b94-40cd-ab75-c2ae2df8791d",
   "metadata": {},
   "source": [
    "Definimos la clase *Variable* y asignamos su dominio de acuerdo a lo establecido previamente"
   ]
  },
  {
   "cell_type": "code",
   "execution_count": 207,
   "id": "52b19277-e433-44a0-9cb9-3bfe62f0b156",
   "metadata": {},
   "outputs": [],
   "source": [
    "class Variable:\n",
    "    def __init__(self, id_, domain):\n",
    "        self.id = id_\n",
    "        self.domain = domain\n",
    "    def __str__(self):\n",
    "        return f'{self.id} -> {self.domain}'"
   ]
  },
  {
   "cell_type": "code",
   "execution_count": 208,
   "id": "ba861e25-6ddf-47c5-b9a7-8d30eed7c599",
   "metadata": {},
   "outputs": [],
   "source": [
    "values = [\n",
    "    ['T', [1,2,3,4,5,6,7,8,9]],\n",
    "    ['W', [0,1,2,3,4,5,6,7,8,9]],\n",
    "    ['O', [0,1,2,3,4,5,6,7,8,9]],\n",
    "    ['F', [1,2,3,4,5,6,7,8,9]],\n",
    "    ['U', [0,1,2,3,4,5,6,7,8,9]],\n",
    "    ['R', [0,1,2,3,4,5,6,7,8,9]],\n",
    "    ['X', [0,1]],\n",
    "    ['Y', [0,1]],\n",
    "    ['Z', [0,1]],\n",
    "]"
   ]
  },
  {
   "cell_type": "code",
   "execution_count": 209,
   "id": "362ea535-8f30-45e6-bd83-9c7b9f0ae3a9",
   "metadata": {},
   "outputs": [],
   "source": [
    "variables = {}\n",
    "for item in values:\n",
    "    variables[item[0]] = Variable(*item)"
   ]
  },
  {
   "cell_type": "code",
   "execution_count": 210,
   "id": "b53f95a9-c6a4-487e-841a-7f1ce880e892",
   "metadata": {},
   "outputs": [
    {
     "name": "stdout",
     "output_type": "stream",
     "text": [
      "T -> [1, 2, 3, 4, 5, 6, 7, 8, 9]\n",
      "W -> [0, 1, 2, 3, 4, 5, 6, 7, 8, 9]\n",
      "O -> [0, 1, 2, 3, 4, 5, 6, 7, 8, 9]\n",
      "F -> [1, 2, 3, 4, 5, 6, 7, 8, 9]\n",
      "U -> [0, 1, 2, 3, 4, 5, 6, 7, 8, 9]\n",
      "R -> [0, 1, 2, 3, 4, 5, 6, 7, 8, 9]\n",
      "X -> [0, 1]\n",
      "Y -> [0, 1]\n",
      "Z -> [0, 1]\n"
     ]
    }
   ],
   "source": [
    "for v in variables:\n",
    "    print(f'{variables[v].id} -> {variables[v].domain}')"
   ]
  },
  {
   "cell_type": "markdown",
   "id": "cb05bc7b-35b5-4d9e-93fc-740192569c1a",
   "metadata": {},
   "source": [
    "## Definición de restricciones"
   ]
  },
  {
   "cell_type": "markdown",
   "id": "c1354258-afb0-43d5-949e-8643ea1268d5",
   "metadata": {},
   "source": [
    "Para las restricciones, estas se pueden obtener a partir de la suma propuesta. En este caso se sugieren las siguientes:\n",
    "\n",
    "- $ C1: \\enspace     O + O = 10X + R $\n",
    "- $ C2: \\enspace X + W + W = 10Y + U $\n",
    "- $ C3: \\enspace Y + T + T = 10Z + O $\n",
    "- $ C4: \\enspace         Z =   F     $"
   ]
  },
  {
   "cell_type": "markdown",
   "id": "2079527d-f7b1-411c-a98f-75a9ecfa8dce",
   "metadata": {},
   "source": [
    "Además tenemos que recordar que cada letra está asignada a un dígito, por lo tanto no puede haber dos letras con el mismo digito asociado. Esta restricción no afecta a las variables *X*, *Y*, *Z* ya que estás sólo son usadas como letras auxiliares. Por lo tanto agregaremos otra restricción que nos defina esta propiedad\n",
    "\n",
    "- $ C5: \\enspace         T \\ne W\\ne O \\ne F \\ne  U \\ne R     $"
   ]
  },
  {
   "cell_type": "code",
   "execution_count": 211,
   "id": "f790d046-cf3b-4241-a25c-93c59a23fc5e",
   "metadata": {},
   "outputs": [],
   "source": [
    "def c1(O, X, R):\n",
    "    if O + O == (10*X) + R:\n",
    "        return True\n",
    "    else:\n",
    "        return False\n",
    "    \n",
    "def c2(X, W, Y, U):\n",
    "    if X + W + W == (10*Y) + U:\n",
    "        return True\n",
    "    else:\n",
    "        return False\n",
    "    \n",
    "def c3(Y, T, Z, O):\n",
    "    if Y + T + T == (10*Z) + O:\n",
    "        return True\n",
    "    else:\n",
    "        return False\n",
    "    \n",
    "def c4(Z, F):\n",
    "    if Z == F:\n",
    "        return True\n",
    "    else:\n",
    "        return False\n",
    "    \n",
    "def c5(T,W,O,F,U,R):\n",
    "    if len([T,W,O,F,U,R]) == len(set([T,W,O,F,U,R])):\n",
    "        return True\n",
    "    else:\n",
    "        return False\n",
    "    "
   ]
  },
  {
   "cell_type": "markdown",
   "id": "007c669c-918e-48ed-bdeb-5f434433d686",
   "metadata": {},
   "source": [
    "Definimos la clase *Constrain* y hacemos instancias de cada restricción"
   ]
  },
  {
   "cell_type": "code",
   "execution_count": 212,
   "id": "177f5aed-3c1f-45a1-8586-4ebd3718ebe6",
   "metadata": {},
   "outputs": [],
   "source": [
    "class Constrain:\n",
    "    def __init__(self, id_, rel_variables, func):\n",
    "        self.id = id_\n",
    "        self.related_variables = rel_variables\n",
    "        self.function = func"
   ]
  },
  {
   "cell_type": "code",
   "execution_count": 213,
   "id": "7a80c438-ec08-40b6-828b-676aa47bbadd",
   "metadata": {},
   "outputs": [],
   "source": [
    "constraints_values = [ ['C1', ['O','X','R' ], c1],\n",
    "                       ['C2', ['X', 'W', 'Y', 'U' ], c2],\n",
    "                       ['C3', ['Y', 'T', 'Z', 'O' ], c3],\n",
    "                       ['C4', ['Z', 'F' ], c4],\n",
    "                       ['C5', ['T','W','O','F','U','R'], c5],\n",
    "                     ]"
   ]
  },
  {
   "cell_type": "code",
   "execution_count": 214,
   "id": "d5e0422f-34aa-439c-80a0-1fc96eea7279",
   "metadata": {},
   "outputs": [],
   "source": [
    "constrains = {}\n",
    "for item in constraints_values:\n",
    "    constrains[item[0]] = Constrain(*item)"
   ]
  },
  {
   "cell_type": "markdown",
   "id": "c0455421-610f-42ab-a726-8a2dd8e47c48",
   "metadata": {},
   "source": [
    "## Reducción de dominio"
   ]
  },
  {
   "cell_type": "markdown",
   "id": "2b3d8828-2937-4d65-a85a-150fc87fd01c",
   "metadata": {},
   "source": [
    "Creamos todas las aristas *(X, C)* para todas las variables y restricciones"
   ]
  },
  {
   "cell_type": "code",
   "execution_count": 215,
   "id": "a7671cce-0830-4b93-b360-df6f2cd89564",
   "metadata": {},
   "outputs": [],
   "source": [
    "edges = []\n",
    "for key in constrains:\n",
    "    for var in constrains[key].related_variables:\n",
    "        if (var, key) not in edges:\n",
    "            edges.append((var, key))"
   ]
  },
  {
   "cell_type": "markdown",
   "id": "84b6b1c6-6fe5-408e-a052-6d23be205fd7",
   "metadata": {},
   "source": [
    "Realizamos el algoritmo AC-3 para la consistencia de arco"
   ]
  },
  {
   "cell_type": "code",
   "execution_count": 216,
   "id": "4e8b124f-a0c1-4d0c-abe9-252f6aad42c1",
   "metadata": {
    "tags": []
   },
   "outputs": [],
   "source": [
    "edges_deque = deque(edges)\n",
    "while(edges_deque):\n",
    "    variable_name, constraint_name = edges_deque.popleft()\n",
    "    for value in list(variables[variable_name].domain):\n",
    "        valid = False\n",
    "        for combination in product(*[variables[v].domain if v != variable_name else [value] for v in constrains[constraint_name].related_variables]):\n",
    "            if constrains[constraint_name].function(*combination):\n",
    "                valid = True\n",
    "                break\n",
    "        if not valid:            \n",
    "            variables[variable_name].domain.remove(value)\n",
    "            related_cons = [constrain for variable, constrain in edges if variable == variable_name]\n",
    "            affected_edges = [(v, c) for v, c in edges if c in related_cons and v != variable_name]\n",
    "            edges_deque += deque(affected_edges)\n"
   ]
  },
  {
   "cell_type": "markdown",
   "id": "ce69bb10-edb8-4585-934c-9eade6bedef7",
   "metadata": {},
   "source": [
    "Analizamos los resultados después de la reducción de dominio después del algoritmo"
   ]
  },
  {
   "cell_type": "code",
   "execution_count": 217,
   "id": "5d9b65e5-1529-4084-8bad-15c8ae904958",
   "metadata": {},
   "outputs": [
    {
     "name": "stdout",
     "output_type": "stream",
     "text": [
      "T -> [5, 6, 7, 8, 9]\n",
      "W -> [0, 2, 3, 4, 5, 6, 7, 8, 9]\n",
      "O -> [0, 2, 3, 4, 5, 6, 7, 8, 9]\n",
      "F -> [1]\n",
      "U -> [0, 2, 3, 4, 5, 6, 7, 8, 9]\n",
      "R -> [0, 2, 4, 6, 8]\n",
      "X -> [0, 1]\n",
      "Y -> [0, 1]\n",
      "Z -> [1]\n"
     ]
    }
   ],
   "source": [
    "for v in variables:\n",
    "    print(f'{variables[v].id} -> {variables[v].domain}')"
   ]
  },
  {
   "cell_type": "markdown",
   "id": "dec35dc9-fac7-4fc4-a608-dd2b90e9ca8f",
   "metadata": {},
   "source": [
    "## Búsqueda"
   ]
  },
  {
   "cell_type": "markdown",
   "id": "17dca344-3458-404b-bc87-0b34490b7075",
   "metadata": {},
   "source": [
    "Ya que tenemos un dominio más reducidio y un espacio de búsqueda más pequeño, tenemos que buscar la solución o soluciones al problema. Esta búsqueda se puede realizar de diferentes formas, a continuación muestro la forma más simple sólo para ejemplificar. En este caso sólo evaluamos las diversas asignaciones de valores para estas variables y evaluamos si estas cumplen con todas las restricciones a la vez."
   ]
  },
  {
   "cell_type": "code",
   "execution_count": 218,
   "id": "1e31af12-40f0-4dd7-93fc-b72f8d8ecb9b",
   "metadata": {
    "tags": []
   },
   "outputs": [],
   "source": [
    "solutions = []\n",
    "for combination in product(*[variables[v].domain for v in [x for x in variables]]):\n",
    "        dict_values = dict(zip([v for v in variables], combination))\n",
    "        if c1(dict_values['O'], dict_values['X'], dict_values['R']):\n",
    "            if c2(dict_values['X'], dict_values['W'], dict_values['Y'], dict_values['U']):\n",
    "                if c3(dict_values['Y'], dict_values['T'], dict_values['Z'], dict_values['O']):\n",
    "                    if c4(dict_values['Z'], dict_values['F']):\n",
    "                        if c5(dict_values['T'], dict_values['W'], dict_values['O'], dict_values['F'],  dict_values['U'],  dict_values['R']):\n",
    "                            solutions.append(dict_values)"
   ]
  },
  {
   "cell_type": "code",
   "execution_count": 219,
   "id": "2c2e2d5a-a8ef-444b-b23b-f8fe6cd0f925",
   "metadata": {},
   "outputs": [
    {
     "data": {
      "text/plain": [
       "[{'T': 7, 'W': 3, 'O': 4, 'F': 1, 'U': 6, 'R': 8, 'X': 0, 'Y': 0, 'Z': 1},\n",
       " {'T': 7, 'W': 6, 'O': 5, 'F': 1, 'U': 3, 'R': 0, 'X': 1, 'Y': 1, 'Z': 1},\n",
       " {'T': 8, 'W': 3, 'O': 6, 'F': 1, 'U': 7, 'R': 2, 'X': 1, 'Y': 0, 'Z': 1},\n",
       " {'T': 8, 'W': 4, 'O': 6, 'F': 1, 'U': 9, 'R': 2, 'X': 1, 'Y': 0, 'Z': 1},\n",
       " {'T': 8, 'W': 6, 'O': 7, 'F': 1, 'U': 3, 'R': 4, 'X': 1, 'Y': 1, 'Z': 1},\n",
       " {'T': 9, 'W': 2, 'O': 8, 'F': 1, 'U': 5, 'R': 6, 'X': 1, 'Y': 0, 'Z': 1},\n",
       " {'T': 9, 'W': 3, 'O': 8, 'F': 1, 'U': 7, 'R': 6, 'X': 1, 'Y': 0, 'Z': 1}]"
      ]
     },
     "execution_count": 219,
     "metadata": {},
     "output_type": "execute_result"
    }
   ],
   "source": [
    "solutions"
   ]
  },
  {
   "cell_type": "markdown",
   "id": "a2f80cd5-40d3-4ba2-bd84-91ffd9df409d",
   "metadata": {},
   "source": [
    "De esta forma podemos obtener todas las soluciones. Finalmente se define una función para imprimir de mejor forma los resultados"
   ]
  },
  {
   "cell_type": "code",
   "execution_count": 220,
   "id": "a41503e5-c41a-4bf5-8fc7-e05d84403821",
   "metadata": {},
   "outputs": [],
   "source": [
    "def answer_print_format(selected_values):\n",
    "    two  =                             100*selected_values['T'] + 10*selected_values['W'] + selected_values['O']\n",
    "    four = 1000*selected_values['F'] + 100*selected_values['O'] + 10*selected_values['U'] + selected_values['R']\n",
    "    print( \"TWO = {} \\t FOUR = {}\".format(two,four) )"
   ]
  },
  {
   "cell_type": "code",
   "execution_count": 221,
   "id": "48d842be-5d59-45aa-8d64-4a1b494b9fe9",
   "metadata": {},
   "outputs": [
    {
     "name": "stdout",
     "output_type": "stream",
     "text": [
      "TWO = 734 \t FOUR = 1468\n",
      "TWO = 765 \t FOUR = 1530\n",
      "TWO = 836 \t FOUR = 1672\n",
      "TWO = 846 \t FOUR = 1692\n",
      "TWO = 867 \t FOUR = 1734\n",
      "TWO = 928 \t FOUR = 1856\n",
      "TWO = 938 \t FOUR = 1876\n"
     ]
    }
   ],
   "source": [
    "for solution in solutions:\n",
    "    answer_print_format(solution)"
   ]
  }
 ],
 "metadata": {
  "kernelspec": {
   "display_name": "Python 3 (ipykernel)",
   "language": "python",
   "name": "python3"
  },
  "language_info": {
   "codemirror_mode": {
    "name": "ipython",
    "version": 3
   },
   "file_extension": ".py",
   "mimetype": "text/x-python",
   "name": "python",
   "nbconvert_exporter": "python",
   "pygments_lexer": "ipython3",
   "version": "3.10.5"
  }
 },
 "nbformat": 4,
 "nbformat_minor": 5
}
