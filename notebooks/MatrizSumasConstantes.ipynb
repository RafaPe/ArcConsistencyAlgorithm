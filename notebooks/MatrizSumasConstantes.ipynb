{
 "cells": [
  {
   "cell_type": "markdown",
   "id": "eb51d83b-26b4-4ab5-bfec-cdca1082d3e0",
   "metadata": {},
   "source": [
    "# Matriz de sumas constantes"
   ]
  },
  {
   "cell_type": "markdown",
   "id": "9ee25d07-e91b-43d9-bbc7-c3181c6a3710",
   "metadata": {},
   "source": [
    "En la siguiente figura, se deben colocar seis números entre el 1 y el 5 en los cuadrados, de manera que se cumplan las siguientes condiciones:\n",
    "\n",
    "- La suma de los números en cada renglón debe ser la misma.\n",
    "- La suma de los números en cada columna debe ser la misma.\n",
    "\n",
    "Se han proporcionado algunos números en los cuadrados. **¿Puedes determinar qué número debe colocarse en el cuadro sombreado?**"
   ]
  },
  {
   "cell_type": "markdown",
   "id": "055da94c-90b1-41f8-abca-99aaefd7c07c",
   "metadata": {},
   "source": [
    "<center>\n",
    "<img src=\"data:image/png;base64,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\" alt=\"Texto alternativo\">\n",
    "</center>"
   ]
  },
  {
   "cell_type": "markdown",
   "id": "56068128-747d-43d4-9818-f77a88e89d62",
   "metadata": {},
   "source": [
    "## Definición de variables"
   ]
  },
  {
   "cell_type": "code",
   "execution_count": 44,
   "id": "47ad715e-e98b-470e-b8ba-3c81b7572921",
   "metadata": {},
   "outputs": [],
   "source": [
    "from itertools import product\n",
    "from collections import deque"
   ]
  },
  {
   "cell_type": "markdown",
   "id": "a443aad3-cb1e-4b0b-a306-38fea0ec616a",
   "metadata": {},
   "source": [
    "Definimos la clase *Variable* y asignamos los valores de dominio de acuerdo a lo establecido en las instrucciones $A,B,C \\in$ { $1,2,3,4,5$ } "
   ]
  },
  {
   "cell_type": "code",
   "execution_count": 45,
   "id": "52b19277-e433-44a0-9cb9-3bfe62f0b156",
   "metadata": {},
   "outputs": [],
   "source": [
    "class Variable:\n",
    "    def __init__(self, id_, domain):\n",
    "        self.id = id_\n",
    "        self.domain = domain\n",
    "    def __str__(self):\n",
    "        return f'{self.id} -> {self.domain}'"
   ]
  },
  {
   "cell_type": "code",
   "execution_count": 46,
   "id": "ba861e25-6ddf-47c5-b9a7-8d30eed7c599",
   "metadata": {},
   "outputs": [],
   "source": [
    "values = [\n",
    "    ['A', [1,2,3,4,5]],\n",
    "    ['B', [1,2,3,4,5]],\n",
    "    ['C', [1,2,3,4,5]]\n",
    "]"
   ]
  },
  {
   "cell_type": "code",
   "execution_count": 47,
   "id": "362ea535-8f30-45e6-bd83-9c7b9f0ae3a9",
   "metadata": {},
   "outputs": [],
   "source": [
    "variables = {}\n",
    "for item in values:\n",
    "    variables[item[0]] = Variable(*item)"
   ]
  },
  {
   "cell_type": "code",
   "execution_count": 48,
   "id": "b53f95a9-c6a4-487e-841a-7f1ce880e892",
   "metadata": {},
   "outputs": [
    {
     "name": "stdout",
     "output_type": "stream",
     "text": [
      "A -> [1, 2, 3, 4, 5]\n",
      "B -> [1, 2, 3, 4, 5]\n",
      "C -> [1, 2, 3, 4, 5]\n"
     ]
    }
   ],
   "source": [
    "for v in variables:\n",
    "    print(f'{variables[v].id} -> {variables[v].domain}')"
   ]
  },
  {
   "cell_type": "markdown",
   "id": "ce3d57e7-52f8-4636-869a-a6befcb4a507",
   "metadata": {},
   "source": [
    "## Definición de restricciones"
   ]
  },
  {
   "cell_type": "markdown",
   "id": "dcb16312-c37c-4f5e-854f-49dcdf57a8f6",
   "metadata": {},
   "source": [
    "Las restricciones de este problema se puede inferir a partir de las instrucciones del problema\n",
    "\n",
    "En primer lugar se menciona que la suma de los renglones debe ser la misma, esto puede expresarse de la siguente forma:\n",
    "\n",
    "$$1 + A + 4 = B + 2+ C$$\n",
    "\n",
    "Posteriormente también se nos indica que la suma por columnas también debe ser equivalente. Y su expresión quedaría de la siguiente forma:\n",
    "$$1 +B = A+2 = 4+C$$\n",
    "\n",
    "Estas restricciones son las que definiremos usando la clase _Constraint_"
   ]
  },
  {
   "cell_type": "code",
   "execution_count": 49,
   "id": "f790d046-cf3b-4241-a25c-93c59a23fc5e",
   "metadata": {},
   "outputs": [],
   "source": [
    "def c1(A, B, C):\n",
    "    if B+1 == A+2 and B+1 == C+4 and A+2 == C+4:\n",
    "        return True\n",
    "    else:\n",
    "        return False\n",
    "    \n",
    "def c2(A, B, C):\n",
    "    if A + 5 == B + C + 2:\n",
    "        return True\n",
    "    else:\n",
    "        return False\n",
    "    "
   ]
  },
  {
   "cell_type": "code",
   "execution_count": 50,
   "id": "177f5aed-3c1f-45a1-8586-4ebd3718ebe6",
   "metadata": {},
   "outputs": [],
   "source": [
    "class Constraint:\n",
    "    def __init__(self, id_, rel_variables, func):\n",
    "        self.id = id_\n",
    "        self.related_variables = rel_variables\n",
    "        self.function = func"
   ]
  },
  {
   "cell_type": "code",
   "execution_count": 51,
   "id": "7a80c438-ec08-40b6-828b-676aa47bbadd",
   "metadata": {},
   "outputs": [],
   "source": [
    "constraints_values = [ ['C1', ['A','B','C' ], c1],\n",
    "                       ['C2', ['A','B','C' ], c2],]"
   ]
  },
  {
   "cell_type": "code",
   "execution_count": 52,
   "id": "d5e0422f-34aa-439c-80a0-1fc96eea7279",
   "metadata": {},
   "outputs": [],
   "source": [
    "constraints = {}\n",
    "for item in constraints_values:\n",
    "    constraints[item[0]] = Constraint(*item)"
   ]
  },
  {
   "cell_type": "markdown",
   "id": "e1520b8d-2af9-4e9a-887f-5b58e44ee36b",
   "metadata": {},
   "source": [
    "## Reducción de dominio"
   ]
  },
  {
   "cell_type": "markdown",
   "id": "fe6ef66d-2006-40a9-a6fa-b4c4415b8dec",
   "metadata": {},
   "source": [
    "Creamos todas las aristas *(X, C)* para todas las variables y restricciones"
   ]
  },
  {
   "cell_type": "code",
   "execution_count": 53,
   "id": "a7671cce-0830-4b93-b360-df6f2cd89564",
   "metadata": {},
   "outputs": [],
   "source": [
    "edges = []\n",
    "for key in constraints:\n",
    "    for var in constraints[key].related_variables:\n",
    "        if (var, key) not in edges:\n",
    "            edges.append((var, key))"
   ]
  },
  {
   "cell_type": "markdown",
   "id": "0ce6ab3e-0389-429a-8f70-a66ffc36eb9d",
   "metadata": {},
   "source": [
    "Realizamos el algoritmo AC-3 para la consistencia de arco"
   ]
  },
  {
   "cell_type": "code",
   "execution_count": 54,
   "id": "4e8b124f-a0c1-4d0c-abe9-252f6aad42c1",
   "metadata": {
    "tags": []
   },
   "outputs": [],
   "source": [
    "edges_deque = deque(edges)\n",
    "while(edges_deque):\n",
    "    # Tomamos la primer arista (X, C)\n",
    "    variable_name, constraint_name = edges_deque.popleft()\n",
    "    \n",
    "    # Iteramos sobre los valores del dominio de la variable seleccionada\n",
    "    for value in list(variables[variable_name].domain):\n",
    "        valid = False\n",
    "        # Si existe alguna asignación de valores para todas las variables donde la variable seleccionada tome el valor que estamos evaluando y cumpla la restricción, hay arco-consistencia\n",
    "        for combination in product(*[variables[v].domain if v != variable_name else [value] for v in constraints[constraint_name].related_variables]):\n",
    "            if constraints[constraint_name].function(*combination):\n",
    "                valid = True\n",
    "                break\n",
    "                \n",
    "        # Si no hay asignaciones de valores válidas donde la variable tome el valor evaluado, no hay arco-consistencia \n",
    "        # Por lo tanto, eliminamos ese valor del dominio de la variable y agregamos las aristas que necesitamos volver a checar\n",
    "        if not valid:            \n",
    "            variables[variable_name].domain.remove(value)\n",
    "            related_cons = [constraint for variable, constraint in edges if variable == variable_name]\n",
    "            affected_edges = [(v, c) for v, c in edges if c in related_cons and v != variable_name]\n",
    "            edges_deque += deque(affected_edges)\n"
   ]
  },
  {
   "cell_type": "markdown",
   "id": "fd779113-54b9-42ce-8ad7-21b2fff7242b",
   "metadata": {},
   "source": [
    "Imprimimos los valores restantes después de la reducción de dominio"
   ]
  },
  {
   "cell_type": "code",
   "execution_count": 55,
   "id": "5d9b65e5-1529-4084-8bad-15c8ae904958",
   "metadata": {},
   "outputs": [
    {
     "name": "stdout",
     "output_type": "stream",
     "text": [
      "A -> [3, 4]\n",
      "B -> [4, 5]\n",
      "C -> [1, 2]\n"
     ]
    }
   ],
   "source": [
    "for v in variables:\n",
    "    print(f'{variables[v].id} -> {variables[v].domain}')"
   ]
  },
  {
   "cell_type": "markdown",
   "id": "ca4b5c67-4f5a-463e-a2e7-b6d410f7c16c",
   "metadata": {},
   "source": [
    "## Búsqueda"
   ]
  },
  {
   "cell_type": "markdown",
   "id": "c586b8df-9809-4f70-b27e-1a2468ede9d0",
   "metadata": {},
   "source": [
    "Ya que tenemos un dominio más reducidio, tenemos  un espacio de búsqueda más pequeño. Ahora tenemos que buscar la solución o soluciones al problema. Esta búsqueda se puede realizar de diferentes formas, a continuación muestro una forma simple sólo para ejemplificar el proceso. En este caso evaluamos las diversas asignaciones de valores para estas variables y evaluamos si estas cumplen con todas las restricciones a la vez. Aquellas combinaciones asignaciones que lo cumplan son soluciones al problema."
   ]
  },
  {
   "cell_type": "code",
   "execution_count": 56,
   "id": "19fa058a-fcaf-45c1-a001-d6f96e03d23f",
   "metadata": {},
   "outputs": [],
   "source": [
    "solutions = []\n",
    "\n",
    "for combination in product(*[variables[v].domain for v in variables]):\n",
    "    dict_values = dict(zip(variables.keys(), combination))\n",
    "\n",
    "    if all([\n",
    "        c1(dict_values['A'], dict_values['B'], dict_values['C']),\n",
    "        c2(dict_values['A'], dict_values['B'], dict_values['C']),\n",
    "    ]):\n",
    "        solutions.append(dict_values)"
   ]
  },
  {
   "cell_type": "markdown",
   "id": "750b74c6-f3ce-490c-9d73-536e7c2a5a40",
   "metadata": {},
   "source": [
    "Con esto finalmente obtenemos la solución o soluciones al problema"
   ]
  },
  {
   "cell_type": "code",
   "execution_count": 57,
   "id": "d0eae377-0af6-4880-bd8d-151b60cb88ef",
   "metadata": {},
   "outputs": [
    {
     "data": {
      "text/plain": [
       "[{'A': 4, 'B': 5, 'C': 2}]"
      ]
     },
     "execution_count": 57,
     "metadata": {},
     "output_type": "execute_result"
    }
   ],
   "source": [
    "solutions"
   ]
  }
 ],
 "metadata": {
  "kernelspec": {
   "display_name": "Python 3 (ipykernel)",
   "language": "python",
   "name": "python3"
  },
  "language_info": {
   "codemirror_mode": {
    "name": "ipython",
    "version": 3
   },
   "file_extension": ".py",
   "mimetype": "text/x-python",
   "name": "python",
   "nbconvert_exporter": "python",
   "pygments_lexer": "ipython3",
   "version": "3.10.5"
  }
 },
 "nbformat": 4,
 "nbformat_minor": 5
}
