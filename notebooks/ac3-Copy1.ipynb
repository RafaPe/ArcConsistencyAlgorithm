{
 "cells": [
  {
   "cell_type": "markdown",
   "id": "eb51d83b-26b4-4ab5-bfec-cdca1082d3e0",
   "metadata": {},
   "source": [
    "# Implementation of the AC-3 algorithm"
   ]
  },
  {
   "cell_type": "markdown",
   "id": "d73cd08f-e258-478e-b718-d18ffefda8a8",
   "metadata": {},
   "source": [
    "<img src=\"data:image/png;base64,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\" alt=\"Texto alternativo\">"
   ]
  },
  {
   "cell_type": "code",
   "execution_count": 1,
   "id": "52b19277-e433-44a0-9cb9-3bfe62f0b156",
   "metadata": {},
   "outputs": [],
   "source": [
    "class Variable:\n",
    "    def __init__(self, id_, domain):\n",
    "        self.id = id_\n",
    "        self.domain = domain\n",
    "    def __str__(self):\n",
    "        return f'{self.id}\\t{self.domain}'"
   ]
  },
  {
   "cell_type": "code",
   "execution_count": 2,
   "id": "ba861e25-6ddf-47c5-b9a7-8d30eed7c599",
   "metadata": {},
   "outputs": [],
   "source": [
    "values = [\n",
    "    ['A', [1]],\n",
    "    ['B', [12]],\n",
    "    ['C', [1,2,3,4,5,6,7,8,9,10,11,12]],\n",
    "    ['D', [1,2,3,4,5,6,7,8,9,10,11,12]],\n",
    "    ['E', [1,2,3,4,5,6,7,8,9,10,11,12]],\n",
    "    ['F', [1,2,3,4,5,6,7,8,9,10,11,12]],\n",
    "    ['G', [1,2,3,4,5,6,7,8,9,10,11,12]],\n",
    "    ['H', [1,2,3,4,5,6,7,8,9,10,11,12]],\n",
    "    ['I', [7]],\n",
    "    ['J', [1,2,3,4,5,6,7,8,9,10,11,12]],\n",
    "    ['K', [1,2,3,4,5,6,7,8,9,10,11,12]],\n",
    "    ['L', [1,2,3,4,5,6,7,8,9,10,11,12]]\n",
    "]"
   ]
  },
  {
   "cell_type": "code",
   "execution_count": 3,
   "id": "362ea535-8f30-45e6-bd83-9c7b9f0ae3a9",
   "metadata": {},
   "outputs": [],
   "source": [
    "variables = {}\n",
    "for item in values:\n",
    "    variables[item[0]] = Variable(*item)"
   ]
  },
  {
   "cell_type": "code",
   "execution_count": 4,
   "id": "b53f95a9-c6a4-487e-841a-7f1ce880e892",
   "metadata": {},
   "outputs": [],
   "source": [
    "# print(variables['X1'])"
   ]
  },
  {
   "cell_type": "code",
   "execution_count": 5,
   "id": "f790d046-cf3b-4241-a25c-93c59a23fc5e",
   "metadata": {},
   "outputs": [],
   "source": [
    "#Definir restricciones\n",
    "\n",
    "def equalSum(a, b, c, d, e, f, g, h, i, j, k, l):\n",
    "    if (a + e + b + i == f + c + j + b) and (a + e + b + i == f + g + h + e) and (a + e + b + i == h +a +l + d) and (a + e + b + i == g + d + c + k) and (a + e + b + i == k + j + i + l):\n",
    "        return True\n",
    "    else:\n",
    "        return False\n",
    "    \n",
    "def different(a, b, c, d, e, f, g, h, i, j, k, l):\n",
    "    if len([a, b, c, d, e, f, g, h, i, j, k, l]) == len(set([a, b, c, d, e, f, g, h, i, j, k, l])):\n",
    "        return True\n",
    "    else:\n",
    "        return False\n",
    "    \n",
    "def sum26(x1, x2, x3, x4):\n",
    "    if x1 + x2 + x3 + x4 == 26:\n",
    "        return True\n",
    "    else:\n",
    "        return False\n",
    "    "
   ]
  },
  {
   "cell_type": "code",
   "execution_count": 6,
   "id": "177f5aed-3c1f-45a1-8586-4ebd3718ebe6",
   "metadata": {},
   "outputs": [],
   "source": [
    "class Constrain:\n",
    "    def __init__(self, id_, rel_variables, func):\n",
    "        self.id = id_\n",
    "        self.related_variables = rel_variables\n",
    "        self.function = func\n",
    "        \n",
    "    # def evaluate(self, variable):\n",
    "    #     return self.func(*self.related_variables)"
   ]
  },
  {
   "cell_type": "code",
   "execution_count": 7,
   "id": "fcda8f31-59a8-4146-8282-a1b996fd0b1e",
   "metadata": {},
   "outputs": [],
   "source": [
    "# a = Constrain('C1', ['X1', 'X2'], different)"
   ]
  },
  {
   "cell_type": "code",
   "execution_count": 8,
   "id": "ddf82bc2-0c72-4a6a-ac5e-aa20006a39ec",
   "metadata": {},
   "outputs": [],
   "source": [
    "# constraints_values = [ ['R01', [x1, x2, x3, x4, x5, x6, x7, x8], equalSum],\n",
    "#                        ['R02', [x1, x2, x3, x4, x2, x3, x6, x7], equalSum],\n",
    "#                        ['R03', [x1, x2, x3, x4, x3, x4, x7, x8], equalSum],\n",
    "#                        ['R04', [x1, x2, x3, x4, x1, x4, x5, x8], equalSum],\n",
    "#                        ['R05', [x1, x2, x3, x4, x4, x3, x7, x8], equalSum],\n",
    "#                        ['R06', [x1, x2], different],\n",
    "#                        ['R07', [x1, x3], different],\n",
    "#                        ['R08', [x1, x4], different],\n",
    "#                        ['R09', [x1, x5], different],\n",
    "#                        ['R10', [x1, x6], different],\n",
    "#                        ['R11', [x1, x7], different],\n",
    "#                        ['R12', [x1, x8], different],\n",
    "#                        ['R13', [x2, x3], different],\n",
    "#                        ['R14', [x2, x4], different],\n",
    "#                        ['R15', [x2, x5], different],\n",
    "#                        ['R16', [x2, x6], different],\n",
    "#                        ['R17', [x2, x7], different],\n",
    "#                        ['R18', [x2, x8], different],\n",
    "#                        ['R19', [x3, x4], different],\n",
    "#                        ['R20', [x3, x5], different],\n",
    "#                        ['R21', [x3, x6], different],\n",
    "#                        ['R22', [x3, x7], different],\n",
    "#                        ['R23', [x3, x8], different],\n",
    "#                        ['R24', [x4, x5], different],\n",
    "#                        ['R25', [x4, x6], different],\n",
    "#                        ['R26', [x4, x7], different],\n",
    "#                        ['R27', [x4, x8], different],\n",
    "#                        ['R28', [x5, x6], different],\n",
    "#                        ['R29', [x5, x7], different],\n",
    "#                        ['R30', [x5, x8], different],\n",
    "#                        ['R31', [x6, x7], different],\n",
    "#                        ['R32', [x6, x8], different],\n",
    "#                        ['R33', [x7, x8], different],\n",
    "#                      ]"
   ]
  },
  {
   "cell_type": "code",
   "execution_count": 9,
   "id": "7a80c438-ec08-40b6-828b-676aa47bbadd",
   "metadata": {},
   "outputs": [],
   "source": [
    "constraints_values = [\n",
    "                       ['R01', ['A', 'E', 'B', 'I'], sum26],\n",
    "                       ['R02', ['F', 'C', 'B', 'J'], sum26],\n",
    "                       ['R03', ['G', 'F', 'E', 'H'], sum26],\n",
    "                       ['R04', ['H', 'A', 'D', 'L'], sum26],\n",
    "                       ['R05', ['G', 'D', 'C', 'K'], sum26],\n",
    "                       ['R06', ['K', 'J', 'L', 'I'], sum26], \n",
    "                       ['R07', ['A', 'B', 'C', 'D', 'E', 'F', 'G', 'H', 'I', 'J', 'K', 'L'], different],\n",
    "                       ['R08', ['A', 'B', 'C', 'D', 'E', 'F', 'G', 'H', 'I', 'J', 'K', 'L'], equalSum]\n",
    "                    ]"
   ]
  },
  {
   "cell_type": "code",
   "execution_count": null,
   "id": "153f2c4f-0a95-4764-807b-00b21b1a5224",
   "metadata": {},
   "outputs": [],
   "source": []
  },
  {
   "cell_type": "code",
   "execution_count": 10,
   "id": "d5e0422f-34aa-439c-80a0-1fc96eea7279",
   "metadata": {},
   "outputs": [],
   "source": [
    "constrains = {}\n",
    "for item in constraints_values:\n",
    "    constrains[item[0]] = Constrain(*item)"
   ]
  },
  {
   "cell_type": "code",
   "execution_count": null,
   "id": "174a92c4-e874-4e02-84bf-d0f827efaa99",
   "metadata": {},
   "outputs": [],
   "source": []
  },
  {
   "cell_type": "code",
   "execution_count": 11,
   "id": "a7671cce-0830-4b93-b360-df6f2cd89564",
   "metadata": {},
   "outputs": [],
   "source": [
    "from collections import deque\n",
    "edges = []\n",
    "for key in constrains:\n",
    "    for var in constrains[key].related_variables:\n",
    "        # print(var, key)\n",
    "        if (var, key) not in edges:\n",
    "            edges.append((var, key))"
   ]
  },
  {
   "cell_type": "code",
   "execution_count": 12,
   "id": "531e770a-3b3e-4dc1-ba9e-2b2e7b77a988",
   "metadata": {},
   "outputs": [],
   "source": [
    "edges_deque = deque(edges)"
   ]
  },
  {
   "cell_type": "code",
   "execution_count": 13,
   "id": "d846d24d-df5e-4419-8ec6-0d5cc8e45d6b",
   "metadata": {},
   "outputs": [],
   "source": [
    "from itertools import product"
   ]
  },
  {
   "cell_type": "code",
   "execution_count": 14,
   "id": "4e8b124f-a0c1-4d0c-abe9-252f6aad42c1",
   "metadata": {
    "tags": []
   },
   "outputs": [],
   "source": [
    "while(edges_deque):\n",
    "    variable_name, constraint_name = edges_deque.popleft()\n",
    "    # print(variable_name, constraint_name)\n",
    "    for value in list(variables[variable_name].domain):\n",
    "        # print('Watching: ', value)\n",
    "        valid = False\n",
    "        for combination in product(*[variables[v].domain if v != variable_name else [value] for v in constrains[constraint_name].related_variables]):\n",
    "            if constrains[constraint_name].function(*combination):\n",
    "                valid = True\n",
    "                break\n",
    "        if not valid:\n",
    "            # print('REDUCCION')\n",
    "            variables[variable_name].domain.remove(value)\n",
    "            \n",
    "            related_cons = [constrain for variable, constrain in edges if variable == variable_name]\n",
    "            affected_edges = [(v, c) for v, c in edges if c in related_cons and v != variable_name]\n",
    "            edges_deque += deque([edge for edge in affected_edges if edge not in edges_deque])\n",
    "            \n",
    "        # print([variables[v].domain for v in constrains[constraint_name].related_variables])\n",
    "        # for combination in product([variables[v].domain for v in constrains[constraint_name].related_variables]):\n",
    "        #     print(combination)\n",
    "        "
   ]
  },
  {
   "cell_type": "code",
   "execution_count": null,
   "id": "254e2664-38d9-4a3e-be0f-27e61d0975a4",
   "metadata": {},
   "outputs": [],
   "source": []
  },
  {
   "cell_type": "code",
   "execution_count": 15,
   "id": "bb46a86b-ff8f-43be-9485-7c55f14709ef",
   "metadata": {},
   "outputs": [
    {
     "name": "stdout",
     "output_type": "stream",
     "text": [
      "[1]\n",
      "[12]\n",
      "[2, 3, 4, 5, 8, 9]\n",
      "[4, 5, 8, 9, 10, 11]\n",
      "[6]\n",
      "[2, 3, 4, 5, 8, 9, 10]\n",
      "[2, 3, 4, 5, 8, 9, 10, 11]\n",
      "[3, 4, 5, 8, 9, 10, 11]\n",
      "[7]\n",
      "[2, 3, 4, 5, 8, 9, 10]\n",
      "[2, 3, 4, 5, 8, 9, 10, 11]\n",
      "[3, 4, 5, 8, 9, 10, 11]\n"
     ]
    }
   ],
   "source": [
    "for var in variables:\n",
    "    print(variables[var].domain)"
   ]
  },
  {
   "cell_type": "code",
   "execution_count": null,
   "id": "fb40d673-5135-4b37-bbe7-b9b19ff26a85",
   "metadata": {},
   "outputs": [],
   "source": []
  },
  {
   "cell_type": "code",
   "execution_count": 18,
   "id": "44c1472e-a990-412f-b74a-aca2aff6d946",
   "metadata": {},
   "outputs": [
    {
     "ename": "TypeError",
     "evalue": "sum26() takes 4 positional arguments but 12 were given",
     "output_type": "error",
     "traceback": [
      "\u001b[1;31m---------------------------------------------------------------------------\u001b[0m",
      "\u001b[1;31mTypeError\u001b[0m                                 Traceback (most recent call last)",
      "Input \u001b[1;32mIn [18]\u001b[0m, in \u001b[0;36m<cell line: 1>\u001b[1;34m()\u001b[0m\n\u001b[0;32m      1\u001b[0m \u001b[38;5;28;01mfor\u001b[39;00m combination \u001b[38;5;129;01min\u001b[39;00m product(\u001b[38;5;241m*\u001b[39m[variables[v]\u001b[38;5;241m.\u001b[39mdomain \u001b[38;5;28;01mfor\u001b[39;00m v \u001b[38;5;129;01min\u001b[39;00m constrains[constraint_name]\u001b[38;5;241m.\u001b[39mrelated_variables]):\n\u001b[0;32m      2\u001b[0m     \u001b[38;5;28;01mfor\u001b[39;00m c \u001b[38;5;129;01min\u001b[39;00m constrains:\n\u001b[1;32m----> 3\u001b[0m         \u001b[38;5;28;01mif\u001b[39;00m \u001b[43mconstrains\u001b[49m\u001b[43m[\u001b[49m\u001b[43mc\u001b[49m\u001b[43m]\u001b[49m\u001b[38;5;241;43m.\u001b[39;49m\u001b[43mfunction\u001b[49m\u001b[43m(\u001b[49m\u001b[38;5;241;43m*\u001b[39;49m\u001b[43mcombination\u001b[49m\u001b[43m)\u001b[49m \u001b[38;5;241m==\u001b[39m \u001b[38;5;28;01mFalse\u001b[39;00m:\n\u001b[0;32m      4\u001b[0m             \u001b[38;5;28;01mcontinue\u001b[39;00m\n\u001b[0;32m      5\u001b[0m     \u001b[38;5;28mprint\u001b[39m(combination)\n",
      "\u001b[1;31mTypeError\u001b[0m: sum26() takes 4 positional arguments but 12 were given"
     ]
    }
   ],
   "source": [
    "for combination in product(*[variables[v].domain for v in constrains[constraint_name].related_variables]):\n",
    "    for c in constrains:\n",
    "        if constrains[c].function(*combination) == False:\n",
    "            continue\n",
    "    print(combination)"
   ]
  }
 ],
 "metadata": {
  "kernelspec": {
   "display_name": "Python 3 (ipykernel)",
   "language": "python",
   "name": "python3"
  },
  "language_info": {
   "codemirror_mode": {
    "name": "ipython",
    "version": 3
   },
   "file_extension": ".py",
   "mimetype": "text/x-python",
   "name": "python",
   "nbconvert_exporter": "python",
   "pygments_lexer": "ipython3",
   "version": "3.10.5"
  }
 },
 "nbformat": 4,
 "nbformat_minor": 5
}
