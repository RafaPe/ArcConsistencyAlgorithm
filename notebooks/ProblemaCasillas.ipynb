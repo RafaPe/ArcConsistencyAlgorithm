{
 "cells": [
  {
   "cell_type": "markdown",
   "id": "eb51d83b-26b4-4ab5-bfec-cdca1082d3e0",
   "metadata": {},
   "source": [
    "# Implementation of the AC-3 algorithm"
   ]
  },
  {
   "cell_type": "code",
   "execution_count": 18,
   "id": "47ad715e-e98b-470e-b8ba-3c81b7572921",
   "metadata": {},
   "outputs": [],
   "source": [
    "from itertools import product\n",
    "from collections import deque"
   ]
  },
  {
   "cell_type": "code",
   "execution_count": 19,
   "id": "52b19277-e433-44a0-9cb9-3bfe62f0b156",
   "metadata": {},
   "outputs": [],
   "source": [
    "class Variable:\n",
    "    def __init__(self, id_, domain):\n",
    "        self.id = id_\n",
    "        self.domain = domain\n",
    "    def __str__(self):\n",
    "        return f'{self.id} -> {self.domain}'"
   ]
  },
  {
   "cell_type": "code",
   "execution_count": 20,
   "id": "ba861e25-6ddf-47c5-b9a7-8d30eed7c599",
   "metadata": {},
   "outputs": [],
   "source": [
    "values = [\n",
    "    ['A', [1,2,3,4,5]],\n",
    "    ['B', [1,2,3,4,5]],\n",
    "    ['C', [1,2,3,4,5]]\n",
    "]"
   ]
  },
  {
   "cell_type": "code",
   "execution_count": 21,
   "id": "362ea535-8f30-45e6-bd83-9c7b9f0ae3a9",
   "metadata": {},
   "outputs": [],
   "source": [
    "variables = {}\n",
    "for item in values:\n",
    "    variables[item[0]] = Variable(*item)"
   ]
  },
  {
   "cell_type": "code",
   "execution_count": 22,
   "id": "b53f95a9-c6a4-487e-841a-7f1ce880e892",
   "metadata": {},
   "outputs": [
    {
     "name": "stdout",
     "output_type": "stream",
     "text": [
      "A -> [1, 2, 3, 4, 5]\n",
      "B -> [1, 2, 3, 4, 5]\n",
      "C -> [1, 2, 3, 4, 5]\n"
     ]
    }
   ],
   "source": [
    "for v in variables:\n",
    "    print(f'{variables[v].id} -> {variables[v].domain}')"
   ]
  },
  {
   "cell_type": "code",
   "execution_count": 23,
   "id": "f790d046-cf3b-4241-a25c-93c59a23fc5e",
   "metadata": {},
   "outputs": [],
   "source": [
    "#Definir restricciones\n",
    "\n",
    "def c1(A, B, C):\n",
    "    if B+1 == A+2 and B+1 == C+4 and A+2 == C+4:\n",
    "        return True\n",
    "    else:\n",
    "        return False\n",
    "    \n",
    "def c2(A, B, C):\n",
    "    if A + 5 == B + C + 2:\n",
    "        return True\n",
    "    else:\n",
    "        return False\n",
    "    "
   ]
  },
  {
   "cell_type": "code",
   "execution_count": 24,
   "id": "177f5aed-3c1f-45a1-8586-4ebd3718ebe6",
   "metadata": {},
   "outputs": [],
   "source": [
    "class Constrain:\n",
    "    def __init__(self, id_, rel_variables, func):\n",
    "        self.id = id_\n",
    "        self.related_variables = rel_variables\n",
    "        self.function = func"
   ]
  },
  {
   "cell_type": "code",
   "execution_count": 25,
   "id": "7a80c438-ec08-40b6-828b-676aa47bbadd",
   "metadata": {},
   "outputs": [],
   "source": [
    "constraints_values = [ ['C1', ['A','B','C' ], c1],\n",
    "                       ['C2', ['A','B','C' ], c2],]"
   ]
  },
  {
   "cell_type": "code",
   "execution_count": 26,
   "id": "d5e0422f-34aa-439c-80a0-1fc96eea7279",
   "metadata": {},
   "outputs": [],
   "source": [
    "constrains = {}\n",
    "for item in constraints_values:\n",
    "    constrains[item[0]] = Constrain(*item)"
   ]
  },
  {
   "cell_type": "code",
   "execution_count": 27,
   "id": "a7671cce-0830-4b93-b360-df6f2cd89564",
   "metadata": {},
   "outputs": [],
   "source": [
    "edges = []\n",
    "for key in constrains:\n",
    "    for var in constrains[key].related_variables:\n",
    "        if (var, key) not in edges:\n",
    "            edges.append((var, key))"
   ]
  },
  {
   "cell_type": "code",
   "execution_count": 28,
   "id": "531e770a-3b3e-4dc1-ba9e-2b2e7b77a988",
   "metadata": {},
   "outputs": [],
   "source": [
    "edges_deque = deque(edges)"
   ]
  },
  {
   "cell_type": "code",
   "execution_count": null,
   "id": "d846d24d-df5e-4419-8ec6-0d5cc8e45d6b",
   "metadata": {},
   "outputs": [],
   "source": []
  },
  {
   "cell_type": "code",
   "execution_count": 29,
   "id": "4e8b124f-a0c1-4d0c-abe9-252f6aad42c1",
   "metadata": {
    "tags": []
   },
   "outputs": [],
   "source": [
    "while(edges_deque):\n",
    "    variable_name, constraint_name = edges_deque.popleft()\n",
    "    # print(variable_name)\n",
    "    for value in list(variables[variable_name].domain):\n",
    "        # print(value)\n",
    "        valid = False\n",
    "        # print([variables[v].domain if v != variable_name else [value] for v in constrains[constraint_name].related_variables])\n",
    "        for combination in product(*[variables[v].domain if v != variable_name else [value] for v in constrains[constraint_name].related_variables]):\n",
    "            if constrains[constraint_name].function(*combination):\n",
    "                # print(combination)\n",
    "                valid = True\n",
    "                break\n",
    "        if not valid:\n",
    "            # print('HAY ALGO NO VALIDO', value)\n",
    "            \n",
    "            variables[variable_name].domain.remove(value)\n",
    "            # print([constrain for constrain, variable in edges])\n",
    "            related_cons = [constrain for variable, constrain in edges if variable == variable_name]\n",
    "            # print(related_cons)\n",
    "            affected_edges = [(v, c) for v, c in edges if c in related_cons and v != variable_name]\n",
    "            # print(affected_edges)\n",
    "            edges_deque += deque(affected_edges)\n",
    "            # print(edges_deque)\n"
   ]
  },
  {
   "cell_type": "code",
   "execution_count": 30,
   "id": "5d9b65e5-1529-4084-8bad-15c8ae904958",
   "metadata": {},
   "outputs": [
    {
     "name": "stdout",
     "output_type": "stream",
     "text": [
      "A -> [3, 4]\n",
      "B -> [4, 5]\n",
      "C -> [1, 2]\n"
     ]
    }
   ],
   "source": [
    "for v in variables:\n",
    "    print(f'{variables[v].id} -> {variables[v].domain}')"
   ]
  }
 ],
 "metadata": {
  "kernelspec": {
   "display_name": "Python 3 (ipykernel)",
   "language": "python",
   "name": "python3"
  },
  "language_info": {
   "codemirror_mode": {
    "name": "ipython",
    "version": 3
   },
   "file_extension": ".py",
   "mimetype": "text/x-python",
   "name": "python",
   "nbconvert_exporter": "python",
   "pygments_lexer": "ipython3",
   "version": "3.10.5"
  }
 },
 "nbformat": 4,
 "nbformat_minor": 5
}
